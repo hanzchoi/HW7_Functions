{
 "cells": [
  {
   "cell_type": "markdown",
   "id": "67f17cb4",
   "metadata": {},
   "source": [
    "1. Create a function that takes in two numbers and returns the average of those numbers"
   ]
  },
  {
   "cell_type": "code",
   "execution_count": 1,
   "id": "89a37a28",
   "metadata": {},
   "outputs": [
    {
     "name": "stdout",
     "output_type": "stream",
     "text": [
      "first number: 2\n",
      "second number: 3\n"
     ]
    },
    {
     "data": {
      "text/plain": [
       "2.5"
      ]
     },
     "execution_count": 1,
     "metadata": {},
     "output_type": "execute_result"
    }
   ],
   "source": [
    "def avg_two_num():\n",
    "    one = int(input(\"first number: \"))\n",
    "    two = int(input(\"second number: \"))\n",
    "    \n",
    "    return (one + two)/2\n",
    "\n",
    "avg_two_num()"
   ]
  },
  {
   "cell_type": "markdown",
   "id": "6f281ae8",
   "metadata": {},
   "source": [
    "2. Create a function that takes in two numbers and returns the sum from number1 to number2. For example, if it takes in 5 and 8, it would return the sum of 5,6,7,8."
   ]
  },
  {
   "cell_type": "code",
   "execution_count": 2,
   "id": "8bcfa910",
   "metadata": {},
   "outputs": [
    {
     "data": {
      "text/plain": [
       "10"
      ]
     },
     "execution_count": 2,
     "metadata": {},
     "output_type": "execute_result"
    }
   ],
   "source": [
    "def two_range_sum(num1, num2):\n",
    "    sum = 0 \n",
    "    for i in range(num1, num2+1):\n",
    "        sum += i\n",
    "        \n",
    "    return sum \n",
    "\n",
    "\n",
    "two_range_sum(1, 4)"
   ]
  },
  {
   "cell_type": "markdown",
   "id": "bccb3b73",
   "metadata": {},
   "source": [
    "3. Create a function that takes in a item_cost, the percentage_off, and the tax. It should return the total cost of the item."
   ]
  },
  {
   "cell_type": "code",
   "execution_count": 6,
   "id": "5af6ccfd",
   "metadata": {},
   "outputs": [
    {
     "name": "stdout",
     "output_type": "stream",
     "text": [
      "50.0\n",
      "80.0\n"
     ]
    },
    {
     "data": {
      "text/plain": [
       "130.0"
      ]
     },
     "execution_count": 6,
     "metadata": {},
     "output_type": "execute_result"
    }
   ],
   "source": [
    "#does the tax come from orig amount? or after the discount\n",
    "def total_cost(item_cost, percentage_off, tax):\n",
    "    print(item_cost*percentage_off)\n",
    "    print(item_cost*tax)\n",
    "    return (item_cost + (item_cost*tax) - (item_cost*percentage_off))\n",
    "    \n",
    "total_cost(100.00, 0.5, 0.8)"
   ]
  },
  {
   "cell_type": "markdown",
   "id": "56cd062e",
   "metadata": {},
   "source": [
    "3. Create a function that takes in a number, and outputs all the numbers below it that are prime."
   ]
  },
  {
   "cell_type": "code",
   "execution_count": 1,
   "id": "75340383",
   "metadata": {},
   "outputs": [
    {
     "name": "stdout",
     "output_type": "stream",
     "text": [
      "2\n",
      "3\n",
      "5\n",
      "7\n",
      "11\n",
      "13\n"
     ]
    }
   ],
   "source": [
    "import math\n",
    "\n",
    "def is_prime(n):\n",
    "    if n == 1: \n",
    "        return False\n",
    "    \n",
    "    if n % 2 == 0 and n > 2: \n",
    "        return False\n",
    "    \n",
    "    for i in range(3, int(math.sqrt(n)) + 1, 2):\n",
    "        if n % i == 0:\n",
    "            return False\n",
    "        \n",
    "    return True\n",
    "    \n",
    "\n",
    "def all_prime(num):\n",
    "    for i in range(1, num + 1):\n",
    "        if is_prime(i):\n",
    "            print(i)\n",
    "            \n",
    "    \n",
    "#2, 3, 5, 7, 11, 13\n",
    "all_prime(13)"
   ]
  },
  {
   "cell_type": "markdown",
   "id": "4752b40f",
   "metadata": {},
   "source": [
    "4. Create a function that takes in a number, and outputs all the numbers below it that are coprime(relatively prime) to it"
   ]
  },
  {
   "cell_type": "code",
   "execution_count": 6,
   "id": "54f9ae2a",
   "metadata": {},
   "outputs": [
    {
     "name": "stdout",
     "output_type": "stream",
     "text": [
      "1\n",
      "5\n",
      "7\n",
      "11\n"
     ]
    }
   ],
   "source": [
    "def gcd(p, q):\n",
    "    #if it is coprime then it should have only 1 as a GCD\n",
    "    while q != 0:\n",
    "        p, q = q, p%q\n",
    "    return p\n",
    "\n",
    "def is_coprime(x, y):\n",
    "    return gcd(x, y) == 1\n",
    "\n",
    "def coprime_output(num):\n",
    "    for i in range(num):\n",
    "        if(is_coprime(i, num)):\n",
    "            print(i)\n",
    "\n",
    "coprime_output(12)\n",
    "    "
   ]
  },
  {
   "cell_type": "markdown",
   "id": "de0d0900",
   "metadata": {},
   "source": [
    "5. Create a function that takes in a number and return how many numbers below it are coprime (use the previous question)"
   ]
  },
  {
   "cell_type": "code",
   "execution_count": 8,
   "id": "5dccec9b",
   "metadata": {},
   "outputs": [
    {
     "name": "stdout",
     "output_type": "stream",
     "text": [
      "4\n"
     ]
    }
   ],
   "source": [
    "def gcd(p, q):\n",
    "    #if it is coprime then it should have only 1 as a GCD\n",
    "    while q != 0:\n",
    "        p, q = q, p%q\n",
    "    return p\n",
    "\n",
    "def is_coprime(x, y):\n",
    "    return gcd(x, y) == 1\n",
    "\n",
    "def coprime_counter(num):\n",
    "    counter = 0\n",
    "    for i in range(num):\n",
    "        if(is_coprime(i, num)):\n",
    "            counter += 1 \n",
    "            \n",
    "    return counter\n",
    "\n",
    "print(coprime_counter(12))"
   ]
  },
  {
   "cell_type": "markdown",
   "id": "d29eb5e7",
   "metadata": {},
   "source": [
    "6. Create a function that takes in a number and outputs all the numbers below it that are twin primes"
   ]
  },
  {
   "cell_type": "code",
   "execution_count": 12,
   "id": "42f946c0",
   "metadata": {},
   "outputs": [
    {
     "name": "stdout",
     "output_type": "stream",
     "text": [
      "3 and 5\n",
      "5 and 7\n",
      "11 and 13\n",
      "17 and 19\n",
      "29 and 31\n",
      "41 and 43\n",
      "59 and 61\n",
      "71 and 73\n"
     ]
    }
   ],
   "source": [
    "def is_prime(n):\n",
    "   for i in range(2, n):\n",
    "      if n % i == 0:\n",
    "         return False\n",
    "   return True\n",
    "\n",
    "def twin_primes(start, end):\n",
    "   for i in range(start, end):\n",
    "      j = i + 2\n",
    "      if(is_prime(i) and is_prime(j)):\n",
    "         print(\"{:d} and {:d}\".format(i, j))\n",
    "\n",
    "twin_primes(2, 100)\n",
    "    "
   ]
  },
  {
   "cell_type": "markdown",
   "id": "3275f753",
   "metadata": {},
   "source": [
    "7. Two people are playing the game rock, paper, scissors.  Create a function that finds the probability of winning for each option using 10,000 trials.  Output said probabilities."
   ]
  },
  {
   "cell_type": "code",
   "execution_count": 36,
   "id": "c05badeb",
   "metadata": {},
   "outputs": [
    {
     "name": "stdout",
     "output_type": "stream",
     "text": [
      "There are  21.90% percent of rock winning\n",
      "There are  21.91% percent of paper winning\n",
      "There are  11.38% percent of scissor winning\n",
      "There are  32.86% percent of draw\n"
     ]
    }
   ],
   "source": [
    "import random as r\n",
    "\n",
    "# 1 is rock\n",
    "# 2 is paper\n",
    "# 3 is scissor\n",
    "\n",
    "# case 1 rock beats scissor (1 vs 3) (3 vs 1)\n",
    "# case 2 paper beats rock (2 vs 1) (1 vs 2)\n",
    "# case 3 scissors beat paper (3 vs 2) (2 vs 3)\n",
    "# case 4 draw\n",
    "\n",
    "\n",
    "TRIALS = 10000\n",
    "\n",
    "\n",
    "def rock_paper_scissors():\n",
    "    rock, paper, scissor, draw = 0, 0, 0, 0\n",
    "\n",
    "    for i in range(TRIALS):\n",
    "        person_one, person_two = r.randint(1,3), r.randint(1,3)\n",
    "\n",
    "        if person_one == 1 and person_two == 3 or person_one == 3 and person_two == 1:\n",
    "            #print(person_one, \" \" ,person_two, \" Rock wins\")\n",
    "            rock += 1\n",
    "    \n",
    "        if person_one == 2 and person_two == 1 or person_one == 1 and person_two == 2:  \n",
    "            #print(person_one, \" \" ,person_two, \" paper wins\")\n",
    "            paper += 1\n",
    "\n",
    "        if person_one == 3 and person_two == 2 or person_one == 3 and person_two == 2:\n",
    "            #print(person_one, \" \" ,person_two, \"Scissor wins\")\n",
    "            scissor += 1\n",
    "    \n",
    "        if person_one == person_two:\n",
    "            #print(person_one, \" \" ,person_two, \" Draw\")\n",
    "            draw += 1\n",
    "    \n",
    "    print(f'There are {rock/TRIALS: .2%} percent of rock winning' )\n",
    "    print(f'There are {paper/TRIALS: .2%} percent of paper winning' )\n",
    "    print(f'There are {scissor/TRIALS: .2%} percent of scissor winning' )\n",
    "    print(f'There are {draw/TRIALS: .2%} percent of draw' )\n",
    "\n",
    "rock_paper_scissors()\n"
   ]
  },
  {
   "cell_type": "markdown",
   "id": "014c1fcc",
   "metadata": {},
   "source": [
    "8. Create a function that tests the probabilities of the Monty Hall problem."
   ]
  },
  {
   "cell_type": "code",
   "execution_count": 42,
   "id": "a2be7f2b",
   "metadata": {},
   "outputs": [
    {
     "name": "stdout",
     "output_type": "stream",
     "text": [
      "Monty Hall Problem with 3 doors\n",
      "Proportion of wins without switching:  33.2000%\n",
      "Proportion of wins with switching: 67.3000%\n"
     ]
    }
   ],
   "source": [
    "import random as r\n",
    "\n",
    "#def monty_hall():\n",
    "    \n",
    "#print(f'There are {rock/TRIALS: .2%} percent of rock winning' )\n",
    "\n",
    "\n",
    "def run_trial(switch_doors, ndoors):\n",
    "\n",
    "    # Pick a random door out of the ndoors available\n",
    "    chosen_door = r.randint(1, ndoors)\n",
    "    if switch_doors:\n",
    "        # Reveal a goat\n",
    "        revealed_door = 3 if chosen_door==2 else 2\n",
    "        # Make the switch by choosing any other door than the initially-\n",
    "        # selected one and the one just opened to reveal a goat. \n",
    "        available_doors = [dnum for dnum in range(1,ndoors+1)\n",
    "                                if dnum not in (chosen_door, revealed_door)]\n",
    "        chosen_door = r.choice(available_doors)\n",
    "\n",
    "    # You win if you picked door number 1\n",
    "    return chosen_door == 1\n",
    "\n",
    "def run_trials(ntrials, switch_doors, ndoors):\n",
    "\n",
    "    nwins = 0\n",
    "    for i in range(ntrials):\n",
    "        if run_trial(switch_doors, ndoors):\n",
    "            nwins += 1\n",
    "    return nwins\n",
    "\n",
    "ndoors, ntrials = 3, 10000\n",
    "nwins_without_switch = run_trials(ntrials, False, ndoors)\n",
    "nwins_with_switch = run_trials(ntrials, True, ndoors)\n",
    "\n",
    "print(f'Monty Hall Problem with {ndoors} doors')\n",
    "print(f'Proportion of wins without switching: {nwins_without_switch/ntrials: .4%}')\n",
    "print(f'Proportion of wins with switching: {nwins_with_switch/ntrials:.4%}')\n",
    "\n",
    "    "
   ]
  },
  {
   "cell_type": "code",
   "execution_count": null,
   "id": "8e7882d8",
   "metadata": {},
   "outputs": [],
   "source": []
  }
 ],
 "metadata": {
  "kernelspec": {
   "display_name": "Python 3 (ipykernel)",
   "language": "python",
   "name": "python3"
  },
  "language_info": {
   "codemirror_mode": {
    "name": "ipython",
    "version": 3
   },
   "file_extension": ".py",
   "mimetype": "text/x-python",
   "name": "python",
   "nbconvert_exporter": "python",
   "pygments_lexer": "ipython3",
   "version": "3.8.8"
  }
 },
 "nbformat": 4,
 "nbformat_minor": 5
}
